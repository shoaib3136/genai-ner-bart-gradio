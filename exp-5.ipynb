{
 "cells": [
  {
   "cell_type": "code",
   "execution_count": 22,
   "id": "51f81726",
   "metadata": {
    "height": 150
   },
   "outputs": [],
   "source": [
    "import os\n",
    "import io\n",
    "from IPython.display import Image, display, HTML\n",
    "from PIL import Image\n",
    "import base64 \n",
    "from dotenv import load_dotenv, find_dotenv\n",
    "_ = load_dotenv(find_dotenv()) # read local .env file\n",
    "hf_api_key = os.environ['HF_API_KEY']"
   ]
  },
  {
   "cell_type": "code",
   "execution_count": 23,
   "id": "a1b930cf",
   "metadata": {
    "height": 320
   },
   "outputs": [],
   "source": [
    "# Helper function\n",
    "import gradio as gr\n",
    "import requests, json\n",
    "\n",
    "#Summarization endpoint\n",
    "def get_completion(inputs, parameters=None,ENDPOINT_URL=os.environ['HF_API_SUMMARY_BASE']): \n",
    "    headers = {\n",
    "      \"Authorization\": f\"Bearer {hf_api_key}\",\n",
    "      \"Content-Type\": \"application/json\"\n",
    "    }\n",
    "    data = { \"inputs\": inputs }\n",
    "    if parameters is not None:\n",
    "        data.update({\"parameters\": parameters})\n",
    "    response = requests.request(\"POST\",\n",
    "                                ENDPOINT_URL, headers=headers,\n",
    "                                data=json.dumps(data)\n",
    "                               )\n",
    "    return json.loads(response.content.decode(\"utf-8\"))"
   ]
  },
  {
   "cell_type": "code",
   "execution_count": 30,
   "id": "18e9b872",
   "metadata": {
    "height": 286
   },
   "outputs": [
    {
     "data": {
      "text/plain": [
       "[{'entity': 'B-LOC',\n",
       "  'score': 0.9997018,\n",
       "  'index': 32,\n",
       "  'word': 'Paris',\n",
       "  'start': 126,\n",
       "  'end': 131},\n",
       " {'entity': 'B-LOC',\n",
       "  'score': 0.93327284,\n",
       "  'index': 55,\n",
       "  'word': 'E',\n",
       "  'start': 244,\n",
       "  'end': 245},\n",
       " {'entity': 'I-LOC',\n",
       "  'score': 0.7716576,\n",
       "  'index': 56,\n",
       "  'word': '##iff',\n",
       "  'start': 245,\n",
       "  'end': 248},\n",
       " {'entity': 'I-LOC',\n",
       "  'score': 0.59214735,\n",
       "  'index': 57,\n",
       "  'word': '##el',\n",
       "  'start': 248,\n",
       "  'end': 250},\n",
       " {'entity': 'I-LOC',\n",
       "  'score': 0.92810106,\n",
       "  'index': 58,\n",
       "  'word': 'Tower',\n",
       "  'start': 251,\n",
       "  'end': 256},\n",
       " {'entity': 'B-LOC',\n",
       "  'score': 0.9743313,\n",
       "  'index': 61,\n",
       "  'word': 'Washington',\n",
       "  'start': 271,\n",
       "  'end': 281},\n",
       " {'entity': 'I-LOC',\n",
       "  'score': 0.9720976,\n",
       "  'index': 62,\n",
       "  'word': 'Monument',\n",
       "  'start': 291,\n",
       "  'end': 299},\n",
       " {'entity': 'B-ORG',\n",
       "  'score': 0.7149701,\n",
       "  'index': 84,\n",
       "  'word': 'Chrysler',\n",
       "  'start': 402,\n",
       "  'end': 410},\n",
       " {'entity': 'I-LOC',\n",
       "  'score': 0.8875241,\n",
       "  'index': 85,\n",
       "  'word': 'Building',\n",
       "  'start': 411,\n",
       "  'end': 419},\n",
       " {'entity': 'B-LOC',\n",
       "  'score': 0.999574,\n",
       "  'index': 87,\n",
       "  'word': 'New',\n",
       "  'start': 431,\n",
       "  'end': 434},\n",
       " {'entity': 'I-LOC',\n",
       "  'score': 0.9989905,\n",
       "  'index': 88,\n",
       "  'word': 'York',\n",
       "  'start': 435,\n",
       "  'end': 439},\n",
       " {'entity': 'I-LOC',\n",
       "  'score': 0.99934846,\n",
       "  'index': 89,\n",
       "  'word': 'City',\n",
       "  'start': 440,\n",
       "  'end': 444},\n",
       " {'entity': 'B-LOC',\n",
       "  'score': 0.6418165,\n",
       "  'index': 131,\n",
       "  'word': 'Chrysler',\n",
       "  'start': 658,\n",
       "  'end': 666},\n",
       " {'entity': 'I-LOC',\n",
       "  'score': 0.90443105,\n",
       "  'index': 132,\n",
       "  'word': 'Building',\n",
       "  'start': 667,\n",
       "  'end': 675},\n",
       " {'entity': 'B-LOC',\n",
       "  'score': 0.9232415,\n",
       "  'index': 151,\n",
       "  'word': 'E',\n",
       "  'start': 736,\n",
       "  'end': 737},\n",
       " {'entity': 'I-LOC',\n",
       "  'score': 0.91054434,\n",
       "  'index': 152,\n",
       "  'word': '##iff',\n",
       "  'start': 737,\n",
       "  'end': 740},\n",
       " {'entity': 'B-LOC',\n",
       "  'score': 0.51638824,\n",
       "  'index': 153,\n",
       "  'word': '##el',\n",
       "  'start': 740,\n",
       "  'end': 742},\n",
       " {'entity': 'I-LOC',\n",
       "  'score': 0.93722856,\n",
       "  'index': 154,\n",
       "  'word': 'Tower',\n",
       "  'start': 743,\n",
       "  'end': 748},\n",
       " {'entity': 'B-LOC',\n",
       "  'score': 0.99968386,\n",
       "  'index': 164,\n",
       "  'word': 'France',\n",
       "  'start': 798,\n",
       "  'end': 804},\n",
       " {'entity': 'B-LOC',\n",
       "  'score': 0.97685677,\n",
       "  'index': 167,\n",
       "  'word': 'Mill',\n",
       "  'start': 824,\n",
       "  'end': 828},\n",
       " {'entity': 'I-LOC',\n",
       "  'score': 0.99109554,\n",
       "  'index': 168,\n",
       "  'word': '##au',\n",
       "  'start': 828,\n",
       "  'end': 830},\n",
       " {'entity': 'I-LOC',\n",
       "  'score': 0.9763026,\n",
       "  'index': 169,\n",
       "  'word': 'Via',\n",
       "  'start': 831,\n",
       "  'end': 834},\n",
       " {'entity': 'I-LOC',\n",
       "  'score': 0.9677283,\n",
       "  'index': 170,\n",
       "  'word': '##duct',\n",
       "  'start': 834,\n",
       "  'end': 838}]"
      ]
     },
     "execution_count": 30,
     "metadata": {},
     "output_type": "execute_result"
    }
   ],
   "source": [
    "API_URL = os.environ['HF_API_NER_BASE'] \n",
    "text = ('''The tower is 324 metres (1,063 ft) tall, about the same height\n",
    "        as an 81-storey building, and the tallest structure in Paris. \n",
    "        Its base is square, measuring 125 metres (410 ft) on each side. \n",
    "        During its construction, the Eiffel Tower surpassed the Washington \n",
    "        Monument to become the tallest man-made structure in the world,\n",
    "        a title it held for 41 years until the Chrysler Building\n",
    "        in New York City was finished in 1930. It was the first structure \n",
    "        to reach a height of 300 metres. Due to the addition of a broadcasting \n",
    "        aerial at the top of the tower in 1957, it is now taller than the \n",
    "        Chrysler Building by 5.2 metres (17 ft). Excluding transmitters, the \n",
    "        Eiffel Tower is the second tallest free-standing structure in France \n",
    "        after the Millau Viaduct.''')\n",
    "\n",
    "get_completion(text, parameters=None, ENDPOINT_URL= API_URL)\n"
   ]
  },
  {
   "cell_type": "code",
   "execution_count": 25,
   "id": "5f3f39e7",
   "metadata": {
    "height": 272
   },
   "outputs": [
    {
     "name": "stdout",
     "output_type": "stream",
     "text": [
      "Closing server running on port: 7862\n",
      "Closing server running on port: 7862\n",
      "Closing server running on port: 7862\n",
      "Closing server running on port: 7861\n",
      "Closing server running on port: 7860\n",
      "Running on local URL:  https://0.0.0.0:7862\n",
      "IMPORTANT: You are using gradio version 3.37.0, however version 4.44.1 is available, please upgrade.\n",
      "--------\n",
      "\n",
      "Could not create share link. Missing file: /usr/local/lib/python3.9/site-packages/gradio/frpc_linux_amd64_v0.2. \n",
      "\n",
      "Please check your internet connection. This can happen if your antivirus software blocks the download of this file. You can install manually by following these steps: \n",
      "\n",
      "1. Download this file: https://cdn-media.huggingface.co/frpc-gradio-0.2/frpc_linux_amd64\n",
      "2. Rename the downloaded file to: frpc_linux_amd64_v0.2\n",
      "3. Move the file to this location: /usr/local/lib/python3.9/site-packages/gradio\n"
     ]
    },
    {
     "data": {
      "text/html": [
       "<div><iframe src=\"https://s172-29-117-79p7862.lab-aws-production.deeplearning.ai/\" width=\"100%\" height=\"500\" allow=\"autoplay; camera; microphone; clipboard-read; clipboard-write;\" frameborder=\"0\" allowfullscreen></iframe></div>"
      ],
      "text/plain": [
       "<IPython.core.display.HTML object>"
      ]
     },
     "metadata": {},
     "output_type": "display_data"
    },
    {
     "data": {
      "text/plain": []
     },
     "execution_count": 25,
     "metadata": {},
     "output_type": "execute_result"
    }
   ],
   "source": [
    "def ner(input):\n",
    "    output = get_completion(input, parameters=None, ENDPOINT_URL=API_URL)\n",
    "    return {\"text\": input, \"entities\": output}\n",
    "\n",
    "gr.close_all()\n",
    "demo = gr.Interface(fn=ner,\n",
    "                    inputs=[gr.Textbox(label=\"Text to find entities\", lines=2)],\n",
    "                    outputs=[gr.HighlightedText(label=\"Text with entities\")],\n",
    "                    title=\"NER with dslim/bert-base-NER\",\n",
    "                    description=\"Find entities using the `dslim/bert-base-NER` model under the hood!\",\n",
    "                    allow_flagging=\"never\",\n",
    "                    #Here we introduce a new tag, examples, easy to use examples for your application\n",
    "                    examples=[\"My name is Shoaib and I live in Chennai\", \"My name is Shoaib and working with HuggingFace\"])\n",
    "demo.launch(share=True, server_port=int(os.environ['PORT3']))"
   ]
  },
  {
   "cell_type": "code",
   "execution_count": 26,
   "id": "78a1548c",
   "metadata": {
    "height": 544
   },
   "outputs": [
    {
     "name": "stdout",
     "output_type": "stream",
     "text": [
      "Closing server running on port: 7862\n",
      "Closing server running on port: 7862\n",
      "Closing server running on port: 7862\n",
      "Closing server running on port: 7862\n",
      "Closing server running on port: 7861\n",
      "Closing server running on port: 7860\n",
      "Running on local URL:  https://0.0.0.0:7862\n",
      "IMPORTANT: You are using gradio version 3.37.0, however version 4.44.1 is available, please upgrade.\n",
      "--------\n",
      "\n",
      "Could not create share link. Missing file: /usr/local/lib/python3.9/site-packages/gradio/frpc_linux_amd64_v0.2. \n",
      "\n",
      "Please check your internet connection. This can happen if your antivirus software blocks the download of this file. You can install manually by following these steps: \n",
      "\n",
      "1. Download this file: https://cdn-media.huggingface.co/frpc-gradio-0.2/frpc_linux_amd64\n",
      "2. Rename the downloaded file to: frpc_linux_amd64_v0.2\n",
      "3. Move the file to this location: /usr/local/lib/python3.9/site-packages/gradio\n"
     ]
    },
    {
     "data": {
      "text/html": [
       "<div><iframe src=\"https://s172-29-117-79p7862.lab-aws-production.deeplearning.ai/\" width=\"100%\" height=\"500\" allow=\"autoplay; camera; microphone; clipboard-read; clipboard-write;\" frameborder=\"0\" allowfullscreen></iframe></div>"
      ],
      "text/plain": [
       "<IPython.core.display.HTML object>"
      ]
     },
     "metadata": {},
     "output_type": "display_data"
    },
    {
     "data": {
      "text/plain": []
     },
     "execution_count": 26,
     "metadata": {},
     "output_type": "execute_result"
    }
   ],
   "source": [
    "def merge_tokens(tokens):\n",
    "    merged_tokens = []\n",
    "    for token in tokens:\n",
    "        if merged_tokens and token['entity'].startswith('I-') and merged_tokens[-1]['entity'].endswith(token['entity'][2:]):\n",
    "            # If current token continues the entity of the last one, merge them\n",
    "            last_token = merged_tokens[-1]\n",
    "            last_token['word'] += token['word'].replace('##', '')\n",
    "            last_token['end'] = token['end']\n",
    "            last_token['score'] = (last_token['score'] + token['score']) / 2\n",
    "        else:\n",
    "            # Otherwise, add the token to the list\n",
    "            merged_tokens.append(token)\n",
    "\n",
    "    return merged_tokens\n",
    "\n",
    "def ner(input):\n",
    "    output = get_completion(input, parameters=None, ENDPOINT_URL=API_URL)\n",
    "    merged_tokens = merge_tokens(output)\n",
    "    return {\"text\": input, \"entities\": merged_tokens}\n",
    "\n",
    "gr.close_all()\n",
    "demo = gr.Interface(fn=ner,\n",
    "                    inputs=[gr.Textbox(label=\"Text to find entities\", lines=2)],\n",
    "                    outputs=[gr.HighlightedText(label=\"Text with entities\")],\n",
    "                    title=\"NER with dslim/bert-base-NER\",\n",
    "                    description=\"Find entities using the `dslim/bert-base-NER` model under the hood!\",\n",
    "                    allow_flagging=\"never\",\n",
    "                    examples=[\"My name is Shoaib, I'm learning through DeeplearningAI and I live in Chennai\", \"My name is Shoaib, I live in Chennai and working with HuggingFace\"])\n",
    "\n",
    "demo.launch(share=True, server_port=int(os.environ['PORT3']))"
   ]
  },
  {
   "cell_type": "code",
   "execution_count": 31,
   "id": "50598e01",
   "metadata": {
    "height": 31
   },
   "outputs": [
    {
     "name": "stdout",
     "output_type": "stream",
     "text": [
      "Closing server running on port: 7862\n",
      "Closing server running on port: 7862\n",
      "Closing server running on port: 7862\n",
      "Closing server running on port: 7862\n",
      "Closing server running on port: 7861\n",
      "Closing server running on port: 7860\n",
      "Closing server running on port: 7862\n",
      "Closing server running on port: 7862\n"
     ]
    }
   ],
   "source": [
    "gr.close_all()"
   ]
  },
  {
   "cell_type": "code",
   "execution_count": null,
   "id": "b9b56352",
   "metadata": {
    "height": 31
   },
   "outputs": [],
   "source": []
  },
  {
   "cell_type": "code",
   "execution_count": null,
   "id": "d31d38ba",
   "metadata": {
    "height": 31
   },
   "outputs": [],
   "source": []
  },
  {
   "cell_type": "code",
   "execution_count": null,
   "id": "ba8125e5",
   "metadata": {
    "height": 31
   },
   "outputs": [],
   "source": []
  },
  {
   "cell_type": "code",
   "execution_count": null,
   "id": "cd7029cc",
   "metadata": {
    "height": 31
   },
   "outputs": [],
   "source": []
  },
  {
   "cell_type": "code",
   "execution_count": null,
   "id": "89c8f738",
   "metadata": {
    "height": 31
   },
   "outputs": [],
   "source": []
  },
  {
   "cell_type": "code",
   "execution_count": null,
   "id": "3a7236c5",
   "metadata": {
    "height": 31
   },
   "outputs": [],
   "source": []
  },
  {
   "cell_type": "code",
   "execution_count": null,
   "id": "88469ff6",
   "metadata": {
    "height": 31
   },
   "outputs": [],
   "source": []
  },
  {
   "cell_type": "code",
   "execution_count": null,
   "id": "4240f667",
   "metadata": {
    "height": 31
   },
   "outputs": [],
   "source": []
  }
 ],
 "metadata": {
  "kernelspec": {
   "display_name": "Python 3 (ipykernel)",
   "language": "python",
   "name": "python3"
  },
  "language_info": {
   "codemirror_mode": {
    "name": "ipython",
    "version": 3
   },
   "file_extension": ".py",
   "mimetype": "text/x-python",
   "name": "python",
   "nbconvert_exporter": "python",
   "pygments_lexer": "ipython3",
   "version": "3.9.19"
  }
 },
 "nbformat": 4,
 "nbformat_minor": 5
}
